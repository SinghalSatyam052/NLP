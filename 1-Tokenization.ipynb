{
 "cells": [
  {
   "cell_type": "code",
   "execution_count": 1,
   "id": "de0d037e-64c5-4053-8f39-6c2672b6280d",
   "metadata": {},
   "outputs": [
    {
     "name": "stdout",
     "output_type": "stream",
     "text": [
      "Requirement already satisfied: nltk in c:\\users\\satya\\anaconda3\\lib\\site-packages (3.9.1)\n",
      "Requirement already satisfied: click in c:\\users\\satya\\anaconda3\\lib\\site-packages (from nltk) (8.1.7)\n",
      "Requirement already satisfied: joblib in c:\\users\\satya\\anaconda3\\lib\\site-packages (from nltk) (1.4.2)\n",
      "Requirement already satisfied: regex>=2021.8.3 in c:\\users\\satya\\anaconda3\\lib\\site-packages (from nltk) (2024.9.11)\n",
      "Requirement already satisfied: tqdm in c:\\users\\satya\\anaconda3\\lib\\site-packages (from nltk) (4.66.5)\n",
      "Requirement already satisfied: colorama in c:\\users\\satya\\anaconda3\\lib\\site-packages (from click->nltk) (0.4.6)\n",
      "Note: you may need to restart the kernel to use updated packages.\n"
     ]
    }
   ],
   "source": [
    "#Installations\n",
    "'''\n",
    "pip install nltk\n",
    "import nltk\n",
    "nltk.download('all')\n",
    "'''"
   ]
  },
  {
   "cell_type": "code",
   "execution_count": 47,
   "id": "a844acba-c97f-4662-9e7e-411e52b58bbb",
   "metadata": {},
   "outputs": [],
   "source": [
    "corpus = \"\"\"Hello! Welcome to new learning journey.\n",
    "This journey is for learning NLP.\n",
    "Please support in Satyam's new learning journey.\"\"\""
   ]
  },
  {
   "cell_type": "code",
   "execution_count": 3,
   "id": "419c0bc4-3c56-4ad8-8056-69813024e50a",
   "metadata": {},
   "outputs": [
    {
     "name": "stdout",
     "output_type": "stream",
     "text": [
      "Hello! Welcome to new learning journey.\n",
      "This journey is for learning NLP\n"
     ]
    }
   ],
   "source": [
    "print(corpus)"
   ]
  },
  {
   "cell_type": "code",
   "execution_count": 20,
   "id": "3c6f13ff-bea7-4db8-bb75-52d80b265ea9",
   "metadata": {},
   "outputs": [],
   "source": [
    "#Tokenization [Paragraph -> Sentence]\n",
    "from nltk import sent_tokenize"
   ]
  },
  {
   "cell_type": "code",
   "execution_count": 24,
   "id": "95094ed3-ca91-4087-b199-182b5db1feec",
   "metadata": {},
   "outputs": [],
   "source": [
    "documents = sent_tokenize(corpus)"
   ]
  },
  {
   "cell_type": "code",
   "execution_count": 26,
   "id": "3fe3fd0c-0dd7-45f1-99e3-9d9346fb453a",
   "metadata": {},
   "outputs": [
    {
     "data": {
      "text/plain": [
       "list"
      ]
     },
     "execution_count": 26,
     "metadata": {},
     "output_type": "execute_result"
    }
   ],
   "source": [
    "type(documents)"
   ]
  },
  {
   "cell_type": "code",
   "execution_count": 28,
   "id": "1dc11a80-8c5f-4bda-a03b-45e557ad6565",
   "metadata": {},
   "outputs": [
    {
     "name": "stdout",
     "output_type": "stream",
     "text": [
      "Hello!\n",
      "Welcome to new learning journey.\n",
      "This journey is for learning NLP\n"
     ]
    }
   ],
   "source": [
    "for sentence in documents:\n",
    "    print(sentence)"
   ]
  },
  {
   "cell_type": "code",
   "execution_count": 30,
   "id": "e538749d-0776-4575-991b-82661e36dfe4",
   "metadata": {},
   "outputs": [],
   "source": [
    "#Tokenization [Paragraph -> Words...AND...Sentence -> Words]\n",
    "from nltk.tokenize import word_tokenize"
   ]
  },
  {
   "cell_type": "code",
   "execution_count": 36,
   "id": "de3690f3-7158-42c9-b005-84d61d260c74",
   "metadata": {},
   "outputs": [
    {
     "data": {
      "text/plain": [
       "['Hello',\n",
       " '!',\n",
       " 'Welcome',\n",
       " 'to',\n",
       " 'new',\n",
       " 'learning',\n",
       " 'journey',\n",
       " '.',\n",
       " 'This',\n",
       " 'journey',\n",
       " 'is',\n",
       " 'for',\n",
       " 'learning',\n",
       " 'NLP',\n",
       " 'Please',\n",
       " 'support',\n",
       " 'in',\n",
       " 'Satyam',\n",
       " \"'s\",\n",
       " 'new',\n",
       " 'learning',\n",
       " 'journey']"
      ]
     },
     "execution_count": 36,
     "metadata": {},
     "output_type": "execute_result"
    }
   ],
   "source": [
    "word_tokenize(corpus)"
   ]
  },
  {
   "cell_type": "code",
   "execution_count": 40,
   "id": "968e8031-2a41-47dd-a4bb-f757cc2c259b",
   "metadata": {},
   "outputs": [
    {
     "data": {
      "text/plain": [
       "['Hello',\n",
       " '!',\n",
       " 'Welcome',\n",
       " 'to',\n",
       " 'new',\n",
       " 'learning',\n",
       " 'journey',\n",
       " '.',\n",
       " 'This',\n",
       " 'journey',\n",
       " 'is',\n",
       " 'for',\n",
       " 'learning',\n",
       " 'NLP',\n",
       " 'Please',\n",
       " 'support',\n",
       " 'in',\n",
       " 'Satyam',\n",
       " \"'\",\n",
       " 's',\n",
       " 'new',\n",
       " 'learning',\n",
       " 'journey']"
      ]
     },
     "execution_count": 40,
     "metadata": {},
     "output_type": "execute_result"
    }
   ],
   "source": [
    "from nltk import wordpunct_tokenize\n",
    "wordpunct_tokenize(corpus)"
   ]
  },
  {
   "cell_type": "raw",
   "id": "92814082-f6ca-42ad-812b-2df1a0541ed7",
   "metadata": {},
   "source": [
    "Note : The difference between word_tokenize and wordpunct_tokenize is clearly seen in case of apostrophe S\n",
    "in word_tokenize  apostrophe S is not seperated \n",
    "while in wordpunct_tokenize apostrophe S is seperated \n",
    "\n",
    "Hence it is proved that in wordpunct_tokenize... punctuation is treated as a seperate word\n",
    "while in word_tokenize... punctuation is not treated as a seperate word"
   ]
  },
  {
   "cell_type": "code",
   "execution_count": 49,
   "id": "59986fbd-6542-4518-b7ad-6945c8e200a4",
   "metadata": {},
   "outputs": [
    {
     "data": {
      "text/plain": [
       "['Hello',\n",
       " '!',\n",
       " 'Welcome',\n",
       " 'to',\n",
       " 'new',\n",
       " 'learning',\n",
       " 'journey.',\n",
       " 'This',\n",
       " 'journey',\n",
       " 'is',\n",
       " 'for',\n",
       " 'learning',\n",
       " 'NLP.',\n",
       " 'Please',\n",
       " 'support',\n",
       " 'in',\n",
       " 'Satyam',\n",
       " \"'s\",\n",
       " 'new',\n",
       " 'learning',\n",
       " 'journey',\n",
       " '.']"
      ]
     },
     "execution_count": 49,
     "metadata": {},
     "output_type": "execute_result"
    }
   ],
   "source": [
    "from nltk.tokenize import TreebankWordTokenizer\n",
    "tokenizer = TreebankWordTokenizer()\n",
    "tokenizer.tokenize(corpus)"
   ]
  },
  {
   "cell_type": "raw",
   "id": "83029191-187a-49ed-9df9-6adb63399cf2",
   "metadata": {},
   "source": [
    "Note : In case of TreebankWordTokenizer the full stop at the end of the line will not be treated as a seperate word if it is in the middle of the paragraph. It will be considered as seperate word only if it is at the end of the paragraph"
   ]
  },
  {
   "cell_type": "code",
   "execution_count": null,
   "id": "1c7e7a81-75d1-468a-af9d-eb593a289c31",
   "metadata": {},
   "outputs": [],
   "source": []
  }
 ],
 "metadata": {
  "kernelspec": {
   "display_name": "Python 3 (ipykernel)",
   "language": "python",
   "name": "python3"
  },
  "language_info": {
   "codemirror_mode": {
    "name": "ipython",
    "version": 3
   },
   "file_extension": ".py",
   "mimetype": "text/x-python",
   "name": "python",
   "nbconvert_exporter": "python",
   "pygments_lexer": "ipython3",
   "version": "3.11.7"
  }
 },
 "nbformat": 4,
 "nbformat_minor": 5
}
